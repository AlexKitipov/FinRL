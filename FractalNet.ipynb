{
  "nbformat": 4,
  "nbformat_minor": 0,
  "metadata": {
    "colab": {
      "provenance": [],
      "authorship_tag": "ABX9TyP//qPdLk8KK8S5/yP9aMQI",
      "include_colab_link": true
    },
    "kernelspec": {
      "name": "python3",
      "display_name": "Python 3"
    },
    "language_info": {
      "name": "python"
    }
  },
  "cells": [
    {
      "cell_type": "markdown",
      "metadata": {
        "id": "view-in-github",
        "colab_type": "text"
      },
      "source": [
        "<a href=\"https://colab.research.google.com/github/AlexKitipov/FinRL/blob/master/FractalNet.ipynb\" target=\"_parent\"><img src=\"https://colab.research.google.com/assets/colab-badge.svg\" alt=\"Open In Colab\"/></a>"
      ]
    },
    {
      "cell_type": "code",
      "execution_count": null,
      "metadata": {
        "id": "Zq68DSY2rP2W",
        "colab": {
          "base_uri": "https://localhost:8080/"
        },
        "outputId": "652d9be4-83d7-42b9-ad28-6a9de0a7db84"
      },
      "outputs": [
        {
          "output_type": "stream",
          "name": "stdout",
          "text": [
            "Requirement already satisfied: cartopy in /usr/local/lib/python3.11/dist-packages (0.24.1)\n",
            "Requirement already satisfied: numpy>=1.23 in /usr/local/lib/python3.11/dist-packages (from cartopy) (2.0.2)\n",
            "Requirement already satisfied: matplotlib>=3.6 in /usr/local/lib/python3.11/dist-packages (from cartopy) (3.10.0)\n",
            "Requirement already satisfied: shapely>=1.8 in /usr/local/lib/python3.11/dist-packages (from cartopy) (2.1.1)\n",
            "Requirement already satisfied: packaging>=21 in /usr/local/lib/python3.11/dist-packages (from cartopy) (24.2)\n",
            "Requirement already satisfied: pyshp>=2.3 in /usr/local/lib/python3.11/dist-packages (from cartopy) (2.3.1)\n",
            "Requirement already satisfied: pyproj>=3.3.1 in /usr/local/lib/python3.11/dist-packages (from cartopy) (3.7.1)\n",
            "Requirement already satisfied: contourpy>=1.0.1 in /usr/local/lib/python3.11/dist-packages (from matplotlib>=3.6->cartopy) (1.3.2)\n",
            "Requirement already satisfied: cycler>=0.10 in /usr/local/lib/python3.11/dist-packages (from matplotlib>=3.6->cartopy) (0.12.1)\n",
            "Requirement already satisfied: fonttools>=4.22.0 in /usr/local/lib/python3.11/dist-packages (from matplotlib>=3.6->cartopy) (4.58.5)\n",
            "Requirement already satisfied: kiwisolver>=1.3.1 in /usr/local/lib/python3.11/dist-packages (from matplotlib>=3.6->cartopy) (1.4.8)\n",
            "Requirement already satisfied: pillow>=8 in /usr/local/lib/python3.11/dist-packages (from matplotlib>=3.6->cartopy) (11.2.1)\n",
            "Requirement already satisfied: pyparsing>=2.3.1 in /usr/local/lib/python3.11/dist-packages (from matplotlib>=3.6->cartopy) (3.2.3)\n",
            "Requirement already satisfied: python-dateutil>=2.7 in /usr/local/lib/python3.11/dist-packages (from matplotlib>=3.6->cartopy) (2.9.0.post0)\n",
            "Requirement already satisfied: certifi in /usr/local/lib/python3.11/dist-packages (from pyproj>=3.3.1->cartopy) (2025.7.14)\n",
            "Requirement already satisfied: six>=1.5 in /usr/local/lib/python3.11/dist-packages (from python-dateutil>=2.7->matplotlib>=3.6->cartopy) (1.17.0)\n"
          ]
        }
      ],
      "source": [
        "!pip install cartopy\n",
        "import cartopy"
      ]
    },
    {
      "cell_type": "code",
      "execution_count": null,
      "metadata": {
        "id": "w9llCG2wSRDx",
        "colab": {
          "base_uri": "https://localhost:8080/"
        },
        "outputId": "4f0da3c7-52ee-4db1-9361-a3847414bc0b"
      },
      "outputs": [
        {
          "output_type": "stream",
          "name": "stdout",
          "text": [
            "Requirement already satisfied: pydot in /usr/local/lib/python3.11/dist-packages (3.0.4)\n",
            "Requirement already satisfied: pyparsing>=3.0.9 in /usr/local/lib/python3.11/dist-packages (from pydot) (3.2.3)\n"
          ]
        }
      ],
      "source": [
        "# https://pypi.python.org/pypi/pydot\n",
        "!apt-get -qq install -y graphviz && pip install pydot\n",
        "import pydot"
      ]
    },
    {
      "cell_type": "code",
      "execution_count": null,
      "metadata": {
        "id": "d_j7nNbKRmhx",
        "colab": {
          "base_uri": "https://localhost:8080/"
        },
        "outputId": "355f03d8-3100-41d7-8201-14fd77722d58"
      },
      "outputs": [
        {
          "output_type": "stream",
          "name": "stdout",
          "text": [
            "Requirement already satisfied: libarchive in /usr/local/lib/python3.11/dist-packages (0.4.7)\n",
            "Requirement already satisfied: nose in /usr/local/lib/python3.11/dist-packages (from libarchive) (1.3.7)\n"
          ]
        }
      ],
      "source": [
        "# https://pypi.python.org/pypi/libarchive\n",
        "!apt-get -qq install -y libarchive-dev && pip install -U libarchive\n",
        "import libarchive"
      ]
    },
    {
      "cell_type": "code",
      "execution_count": null,
      "metadata": {
        "id": "__3eqm3q3sr-",
        "colab": {
          "base_uri": "https://localhost:8080/"
        },
        "outputId": "e95d7dbd-5547-4947-b792-e6ec4ac078e3"
      },
      "outputs": [
        {
          "output_type": "stream",
          "name": "stdout",
          "text": [
            "E: Package 'libfluidsynth1' has no installation candidate\n"
          ]
        }
      ],
      "source": [
        "!apt-get -qq install -y libfluidsynth1"
      ]
    },
    {
      "cell_type": "code",
      "execution_count": null,
      "metadata": {
        "id": "GQ18Kd5F3uKe",
        "colab": {
          "base_uri": "https://localhost:8080/"
        },
        "outputId": "20ca2ad5-cdea-4ea2-ba63-058d5f75b55c"
      },
      "outputs": [
        {
          "output_type": "stream",
          "name": "stdout",
          "text": [
            "Requirement already satisfied: matplotlib-venn in /usr/local/lib/python3.11/dist-packages (1.1.2)\n",
            "Requirement already satisfied: matplotlib in /usr/local/lib/python3.11/dist-packages (from matplotlib-venn) (3.10.0)\n",
            "Requirement already satisfied: numpy in /usr/local/lib/python3.11/dist-packages (from matplotlib-venn) (2.0.2)\n",
            "Requirement already satisfied: scipy in /usr/local/lib/python3.11/dist-packages (from matplotlib-venn) (1.15.3)\n",
            "Requirement already satisfied: contourpy>=1.0.1 in /usr/local/lib/python3.11/dist-packages (from matplotlib->matplotlib-venn) (1.3.2)\n",
            "Requirement already satisfied: cycler>=0.10 in /usr/local/lib/python3.11/dist-packages (from matplotlib->matplotlib-venn) (0.12.1)\n",
            "Requirement already satisfied: fonttools>=4.22.0 in /usr/local/lib/python3.11/dist-packages (from matplotlib->matplotlib-venn) (4.58.5)\n",
            "Requirement already satisfied: kiwisolver>=1.3.1 in /usr/local/lib/python3.11/dist-packages (from matplotlib->matplotlib-venn) (1.4.8)\n",
            "Requirement already satisfied: packaging>=20.0 in /usr/local/lib/python3.11/dist-packages (from matplotlib->matplotlib-venn) (24.2)\n",
            "Requirement already satisfied: pillow>=8 in /usr/local/lib/python3.11/dist-packages (from matplotlib->matplotlib-venn) (11.2.1)\n",
            "Requirement already satisfied: pyparsing>=2.3.1 in /usr/local/lib/python3.11/dist-packages (from matplotlib->matplotlib-venn) (3.2.3)\n",
            "Requirement already satisfied: python-dateutil>=2.7 in /usr/local/lib/python3.11/dist-packages (from matplotlib->matplotlib-venn) (2.9.0.post0)\n",
            "Requirement already satisfied: six>=1.5 in /usr/local/lib/python3.11/dist-packages (from python-dateutil>=2.7->matplotlib->matplotlib-venn) (1.17.0)\n"
          ]
        }
      ],
      "source": [
        "!pip install matplotlib-venn"
      ]
    },
    {
      "cell_type": "code",
      "execution_count": null,
      "metadata": {
        "id": "si61Q6xXmx04"
      },
      "outputs": [],
      "source": [
        "from fractalnet.blocks import FractalBlock\n"
      ]
    },
    {
      "cell_type": "code",
      "source": [
        "# Създай работна папка\n",
        "!mkdir -p /content/FractalNet/fractalnet\n",
        "\n",
        "# Премини в нея\n",
        "%cd /content/FractalNet"
      ],
      "metadata": {
        "colab": {
          "base_uri": "https://localhost:8080/"
        },
        "id": "NMa4MP5poiMH",
        "outputId": "addd4af4-4e50-4197-9540-e8128963293d"
      },
      "execution_count": null,
      "outputs": [
        {
          "output_type": "stream",
          "name": "stdout",
          "text": [
            "/content/FractalNet\n"
          ]
        }
      ]
    },
    {
      "cell_type": "code",
      "source": [
        "%run setup.py install"
      ],
      "metadata": {
        "colab": {
          "base_uri": "https://localhost:8080/"
        },
        "id": "e1LDgN98orOg",
        "outputId": "3b8fb0ff-d8f8-46be-bbd1-11f1ad4dbc22"
      },
      "execution_count": null,
      "outputs": [
        {
          "output_type": "stream",
          "name": "stderr",
          "text": [
            "INFO:root:running install\n",
            "/usr/local/lib/python3.11/dist-packages/setuptools/_distutils/cmd.py:66: SetuptoolsDeprecationWarning: setup.py install is deprecated.\n",
            "!!\n",
            "\n",
            "        ********************************************************************************\n",
            "        Please avoid running ``setup.py`` directly.\n",
            "        Instead, use pypa/build, pypa/installer or other\n",
            "        standards-based tools.\n",
            "\n",
            "        See https://blog.ganssle.io/articles/2021/10/setup-py-deprecated.html for details.\n",
            "        ********************************************************************************\n",
            "\n",
            "!!\n",
            "  self.initialize_options()\n",
            "/usr/local/lib/python3.11/dist-packages/setuptools/_distutils/cmd.py:66: EasyInstallDeprecationWarning: easy_install command is deprecated.\n",
            "!!\n",
            "\n",
            "        ********************************************************************************\n",
            "        Please avoid running ``setup.py`` and ``easy_install``.\n",
            "        Instead, use pypa/build, pypa/installer or other\n",
            "        standards-based tools.\n",
            "\n",
            "        See https://github.com/pypa/setuptools/issues/917 for details.\n",
            "        ********************************************************************************\n",
            "\n",
            "!!\n",
            "  self.initialize_options()\n",
            "INFO:root:running bdist_egg\n",
            "INFO:root:running egg_info\n",
            "INFO:root:writing fractalnet.egg-info/PKG-INFO\n",
            "INFO:root:writing dependency_links to fractalnet.egg-info/dependency_links.txt\n",
            "INFO:root:writing requirements to fractalnet.egg-info/requires.txt\n",
            "INFO:root:writing top-level names to fractalnet.egg-info/top_level.txt\n",
            "INFO:root:reading manifest file 'fractalnet.egg-info/SOURCES.txt'\n",
            "INFO:root:writing manifest file 'fractalnet.egg-info/SOURCES.txt'\n",
            "INFO:root:installing library code to build/bdist.linux-x86_64/egg\n",
            "INFO:root:running install_lib\n",
            "INFO:root:running build_py\n",
            "INFO:root:copying fractalnet/model.py -> build/lib/fractalnet\n",
            "INFO:root:copying fractalnet/__init__.py -> build/lib/fractalnet\n",
            "INFO:root:copying fractalnet/blocks.py -> build/lib/fractalnet\n",
            "INFO:root:creating build/bdist.linux-x86_64/egg\n",
            "INFO:root:creating build/bdist.linux-x86_64/egg/fractalnet\n",
            "INFO:root:copying build/lib/fractalnet/model.py -> build/bdist.linux-x86_64/egg/fractalnet\n",
            "INFO:root:copying build/lib/fractalnet/__init__.py -> build/bdist.linux-x86_64/egg/fractalnet\n",
            "INFO:root:copying build/lib/fractalnet/blocks.py -> build/bdist.linux-x86_64/egg/fractalnet\n",
            "INFO:root:byte-compiling build/bdist.linux-x86_64/egg/fractalnet/model.py to model.cpython-311.pyc\n",
            "INFO:root:byte-compiling build/bdist.linux-x86_64/egg/fractalnet/__init__.py to __init__.cpython-311.pyc\n",
            "INFO:root:byte-compiling build/bdist.linux-x86_64/egg/fractalnet/blocks.py to blocks.cpython-311.pyc\n",
            "INFO:root:creating build/bdist.linux-x86_64/egg/EGG-INFO\n",
            "INFO:root:copying fractalnet.egg-info/PKG-INFO -> build/bdist.linux-x86_64/egg/EGG-INFO\n",
            "INFO:root:copying fractalnet.egg-info/SOURCES.txt -> build/bdist.linux-x86_64/egg/EGG-INFO\n",
            "INFO:root:copying fractalnet.egg-info/dependency_links.txt -> build/bdist.linux-x86_64/egg/EGG-INFO\n",
            "INFO:root:copying fractalnet.egg-info/requires.txt -> build/bdist.linux-x86_64/egg/EGG-INFO\n",
            "INFO:root:copying fractalnet.egg-info/top_level.txt -> build/bdist.linux-x86_64/egg/EGG-INFO\n",
            "WARNING:root:zip_safe flag not set; analyzing archive contents...\n",
            "INFO:root:creating 'dist/fractalnet-0.1.0-py3.11.egg' and adding 'build/bdist.linux-x86_64/egg' to it\n",
            "INFO:root:removing 'build/bdist.linux-x86_64/egg' (and everything under it)\n",
            "INFO:root:Processing fractalnet-0.1.0-py3.11.egg\n",
            "INFO:root:Copying fractalnet-0.1.0-py3.11.egg to /usr/local/lib/python3.11/dist-packages\n",
            "INFO:root:Removing fractalnet 0.1.0 from easy-install.pth file\n",
            "INFO:root:Adding fractalnet 0.1.0 to easy-install.pth file\n",
            "INFO:root:detected new path '/content/FractalNet'\n",
            "INFO:root:\n",
            "Installed /usr/local/lib/python3.11/dist-packages/fractalnet-0.1.0-py3.11.egg\n",
            "INFO:root:Processing dependencies for fractalnet==0.1.0\n",
            "INFO:root:Searching for torch==2.6.0+cu124\n",
            "INFO:root:Best match: torch 2.6.0+cu124\n",
            "INFO:root:Adding torch 2.6.0+cu124 to easy-install.pth file\n",
            "INFO:root:detected new path './fractalnet-0.1.0-py3.11.egg'\n",
            "INFO:root:Installing torchfrtrace script to /usr/local/bin\n",
            "INFO:root:Installing torchrun script to /usr/local/bin\n",
            "INFO:root:\n",
            "Using /usr/local/lib/python3.11/dist-packages\n",
            "INFO:root:Searching for sympy==1.13.1\n",
            "INFO:root:Best match: sympy 1.13.1\n",
            "INFO:root:Adding sympy 1.13.1 to easy-install.pth file\n",
            "INFO:root:Installing isympy script to /usr/local/bin\n",
            "INFO:root:\n",
            "Using /usr/local/lib/python3.11/dist-packages\n",
            "INFO:root:Searching for triton==3.2.0\n",
            "INFO:root:Best match: triton 3.2.0\n",
            "INFO:root:Adding triton 3.2.0 to easy-install.pth file\n",
            "INFO:root:Installing proton script to /usr/local/bin\n",
            "INFO:root:Installing proton-viewer script to /usr/local/bin\n",
            "INFO:root:\n",
            "Using /usr/local/lib/python3.11/dist-packages\n",
            "INFO:root:Searching for nvidia-nvjitlink-cu12==12.4.127\n",
            "INFO:root:Best match: nvidia-nvjitlink-cu12 12.4.127\n",
            "INFO:root:Adding nvidia-nvjitlink-cu12 12.4.127 to easy-install.pth file\n",
            "INFO:root:\n",
            "Using /usr/local/lib/python3.11/dist-packages\n",
            "INFO:root:Searching for nvidia-nvtx-cu12==12.4.127\n",
            "INFO:root:Best match: nvidia-nvtx-cu12 12.4.127\n",
            "INFO:root:Adding nvidia-nvtx-cu12 12.4.127 to easy-install.pth file\n",
            "INFO:root:\n",
            "Using /usr/local/lib/python3.11/dist-packages\n",
            "INFO:root:Searching for nvidia-nccl-cu12==2.21.5\n",
            "INFO:root:Best match: nvidia-nccl-cu12 2.21.5\n",
            "INFO:root:Adding nvidia-nccl-cu12 2.21.5 to easy-install.pth file\n",
            "INFO:root:\n",
            "Using /usr/local/lib/python3.11/dist-packages\n",
            "INFO:root:Searching for nvidia-cusparselt-cu12==0.6.2\n",
            "INFO:root:Best match: nvidia-cusparselt-cu12 0.6.2\n",
            "INFO:root:Adding nvidia-cusparselt-cu12 0.6.2 to easy-install.pth file\n",
            "INFO:root:\n",
            "Using /usr/local/lib/python3.11/dist-packages\n",
            "INFO:root:Searching for nvidia-cusparse-cu12==12.3.1.170\n",
            "INFO:root:Best match: nvidia-cusparse-cu12 12.3.1.170\n",
            "INFO:root:Adding nvidia-cusparse-cu12 12.3.1.170 to easy-install.pth file\n",
            "INFO:root:\n",
            "Using /usr/local/lib/python3.11/dist-packages\n",
            "INFO:root:Searching for nvidia-cusolver-cu12==11.6.1.9\n",
            "INFO:root:Best match: nvidia-cusolver-cu12 11.6.1.9\n",
            "INFO:root:Adding nvidia-cusolver-cu12 11.6.1.9 to easy-install.pth file\n",
            "INFO:root:\n",
            "Using /usr/local/lib/python3.11/dist-packages\n",
            "INFO:root:Searching for nvidia-curand-cu12==10.3.5.147\n",
            "INFO:root:Best match: nvidia-curand-cu12 10.3.5.147\n",
            "INFO:root:Adding nvidia-curand-cu12 10.3.5.147 to easy-install.pth file\n",
            "INFO:root:\n",
            "Using /usr/local/lib/python3.11/dist-packages\n",
            "INFO:root:Searching for nvidia-cufft-cu12==11.2.1.3\n",
            "INFO:root:Best match: nvidia-cufft-cu12 11.2.1.3\n",
            "INFO:root:Adding nvidia-cufft-cu12 11.2.1.3 to easy-install.pth file\n",
            "INFO:root:\n",
            "Using /usr/local/lib/python3.11/dist-packages\n",
            "INFO:root:Searching for nvidia-cublas-cu12==12.4.5.8\n",
            "INFO:root:Best match: nvidia-cublas-cu12 12.4.5.8\n",
            "INFO:root:Adding nvidia-cublas-cu12 12.4.5.8 to easy-install.pth file\n",
            "INFO:root:\n",
            "Using /usr/local/lib/python3.11/dist-packages\n",
            "INFO:root:Searching for nvidia-cudnn-cu12==9.1.0.70\n",
            "INFO:root:Best match: nvidia-cudnn-cu12 9.1.0.70\n",
            "INFO:root:Adding nvidia-cudnn-cu12 9.1.0.70 to easy-install.pth file\n",
            "INFO:root:\n",
            "Using /usr/local/lib/python3.11/dist-packages\n",
            "INFO:root:Searching for nvidia-cuda-cupti-cu12==12.4.127\n",
            "INFO:root:Best match: nvidia-cuda-cupti-cu12 12.4.127\n",
            "INFO:root:Adding nvidia-cuda-cupti-cu12 12.4.127 to easy-install.pth file\n",
            "INFO:root:\n",
            "Using /usr/local/lib/python3.11/dist-packages\n",
            "INFO:root:Searching for nvidia-cuda-runtime-cu12==12.4.127\n",
            "INFO:root:Best match: nvidia-cuda-runtime-cu12 12.4.127\n",
            "INFO:root:Adding nvidia-cuda-runtime-cu12 12.4.127 to easy-install.pth file\n",
            "INFO:root:\n",
            "Using /usr/local/lib/python3.11/dist-packages\n",
            "INFO:root:Searching for nvidia-cuda-nvrtc-cu12==12.4.127\n",
            "INFO:root:Best match: nvidia-cuda-nvrtc-cu12 12.4.127\n",
            "INFO:root:Adding nvidia-cuda-nvrtc-cu12 12.4.127 to easy-install.pth file\n",
            "INFO:root:\n",
            "Using /usr/local/lib/python3.11/dist-packages\n",
            "INFO:root:Searching for fsspec==2025.3.2\n",
            "INFO:root:Best match: fsspec 2025.3.2\n",
            "INFO:root:Adding fsspec 2025.3.2 to easy-install.pth file\n",
            "INFO:root:\n",
            "Using /usr/local/lib/python3.11/dist-packages\n",
            "INFO:root:Searching for jinja2==3.1.6\n",
            "INFO:root:Best match: jinja2 3.1.6\n",
            "INFO:root:Adding jinja2 3.1.6 to easy-install.pth file\n",
            "INFO:root:\n",
            "Using /usr/local/lib/python3.11/dist-packages\n",
            "INFO:root:Searching for networkx==3.5\n",
            "INFO:root:Best match: networkx 3.5\n",
            "INFO:root:Adding networkx 3.5 to easy-install.pth file\n",
            "INFO:root:\n",
            "Using /usr/local/lib/python3.11/dist-packages\n",
            "INFO:root:Searching for typing-extensions==4.14.1\n",
            "INFO:root:Best match: typing-extensions 4.14.1\n",
            "INFO:root:Adding typing-extensions 4.14.1 to easy-install.pth file\n",
            "INFO:root:\n",
            "Using /usr/local/lib/python3.11/dist-packages\n",
            "INFO:root:Searching for filelock==3.18.0\n",
            "INFO:root:Best match: filelock 3.18.0\n",
            "INFO:root:Adding filelock 3.18.0 to easy-install.pth file\n",
            "INFO:root:\n",
            "Using /usr/local/lib/python3.11/dist-packages\n",
            "INFO:root:Searching for mpmath==1.3.0\n",
            "INFO:root:Best match: mpmath 1.3.0\n",
            "INFO:root:Adding mpmath 1.3.0 to easy-install.pth file\n",
            "INFO:root:\n",
            "Using /usr/local/lib/python3.11/dist-packages\n",
            "INFO:root:Searching for MarkupSafe==3.0.2\n",
            "INFO:root:Best match: MarkupSafe 3.0.2\n",
            "INFO:root:Adding MarkupSafe 3.0.2 to easy-install.pth file\n",
            "INFO:root:\n",
            "Using /usr/local/lib/python3.11/dist-packages\n",
            "INFO:root:Finished processing dependencies for fractalnet==0.1.0\n"
          ]
        }
      ]
    },
    {
      "cell_type": "code",
      "source": [
        "%%bash\n",
        "set -e\n",
        "\n",
        "# 1. Отиваме в работната папка (ако няма – се създава)\n",
        "mkdir -p /content/FractalNet\n",
        "cd /content/FractalNet\n",
        "\n",
        "# 2. Пакетната конфигурация\n",
        "cat << 'EOF' > setup.py\n",
        "from setuptools import setup, find_packages\n",
        "\n",
        "setup(\n",
        "    name='fractalnet',\n",
        "    version='0.1.0',\n",
        "    description='Fractal Neural Network blocks for PyTorch',\n",
        "    author='Твоето Име',\n",
        "    packages=find_packages(),\n",
        "    install_requires=['torch>=1.7.0'],\n",
        "    python_requires='>=3.7'\n",
        ")\n",
        "EOF\n",
        "\n",
        "# 3. Създаваме пакета и кода\n",
        "mkdir -p fractalnet\n",
        "\n",
        "cat << 'EOF' > fractalnet/blocks.py\n",
        "import torch, random\n",
        "import torch.nn as nn\n",
        "\n",
        "class FractalBlock(nn.Module):\n",
        "    def __init__(self, in_ch, out_ch, depth, drop_rate=0.15):\n",
        "        super().__init__()\n",
        "        self.depth     = depth\n",
        "        self.drop_rate = drop_rate\n",
        "\n",
        "        if depth == 1:\n",
        "            self.block = nn.Sequential(\n",
        "                nn.Conv2d(in_ch, out_ch, kernel_size=3, padding=1, bias=False),\n",
        "                nn.BatchNorm2d(out_ch),\n",
        "                nn.ReLU(inplace=True)\n",
        "            )\n",
        "        else:\n",
        "            self.left  = FractalBlock(in_ch, out_ch, depth-1, drop_rate)\n",
        "            self.right = FractalBlock(in_ch, out_ch, depth-1, drop_rate)\n",
        "\n",
        "    def forward(self, x):\n",
        "        if self.depth == 1:\n",
        "            return self.block(x)\n",
        "\n",
        "        # drop-path\n",
        "        if self.training and random.random() < self.drop_rate:\n",
        "            return self.left(x) if random.random()<0.5 else self.right(x)\n",
        "\n",
        "        out_l = self.left(x)\n",
        "        out_r = self.right(x)\n",
        "        return 0.5 * (out_l + out_r)\n",
        "EOF\n",
        "\n",
        "# празен __init__.py\n",
        "touch fractalnet/__init__.py\n",
        "\n",
        "# 4. Инсталираме локално\n",
        "pip install -e .\n"
      ],
      "metadata": {
        "colab": {
          "base_uri": "https://localhost:8080/"
        },
        "id": "pGJAh0OjtdAx",
        "outputId": "08ace9b5-1853-4a49-ef07-c8c0597cd41b"
      },
      "execution_count": null,
      "outputs": [
        {
          "output_type": "stream",
          "name": "stdout",
          "text": [
            "Obtaining file:///content/FractalNet\n",
            "  Preparing metadata (setup.py): started\n",
            "  Preparing metadata (setup.py): finished with status 'done'\n",
            "Requirement already satisfied: torch>=1.7.0 in /usr/local/lib/python3.11/dist-packages (from fractalnet==0.1.0) (2.6.0+cu124)\n",
            "Requirement already satisfied: filelock in /usr/local/lib/python3.11/dist-packages (from torch>=1.7.0->fractalnet==0.1.0) (3.18.0)\n",
            "Requirement already satisfied: typing-extensions>=4.10.0 in /usr/local/lib/python3.11/dist-packages (from torch>=1.7.0->fractalnet==0.1.0) (4.14.1)\n",
            "Requirement already satisfied: networkx in /usr/local/lib/python3.11/dist-packages (from torch>=1.7.0->fractalnet==0.1.0) (3.5)\n",
            "Requirement already satisfied: jinja2 in /usr/local/lib/python3.11/dist-packages (from torch>=1.7.0->fractalnet==0.1.0) (3.1.6)\n",
            "Requirement already satisfied: fsspec in /usr/local/lib/python3.11/dist-packages (from torch>=1.7.0->fractalnet==0.1.0) (2025.3.2)\n",
            "Requirement already satisfied: nvidia-cuda-nvrtc-cu12==12.4.127 in /usr/local/lib/python3.11/dist-packages (from torch>=1.7.0->fractalnet==0.1.0) (12.4.127)\n",
            "Requirement already satisfied: nvidia-cuda-runtime-cu12==12.4.127 in /usr/local/lib/python3.11/dist-packages (from torch>=1.7.0->fractalnet==0.1.0) (12.4.127)\n",
            "Requirement already satisfied: nvidia-cuda-cupti-cu12==12.4.127 in /usr/local/lib/python3.11/dist-packages (from torch>=1.7.0->fractalnet==0.1.0) (12.4.127)\n",
            "Requirement already satisfied: nvidia-cudnn-cu12==9.1.0.70 in /usr/local/lib/python3.11/dist-packages (from torch>=1.7.0->fractalnet==0.1.0) (9.1.0.70)\n",
            "Requirement already satisfied: nvidia-cublas-cu12==12.4.5.8 in /usr/local/lib/python3.11/dist-packages (from torch>=1.7.0->fractalnet==0.1.0) (12.4.5.8)\n",
            "Requirement already satisfied: nvidia-cufft-cu12==11.2.1.3 in /usr/local/lib/python3.11/dist-packages (from torch>=1.7.0->fractalnet==0.1.0) (11.2.1.3)\n",
            "Requirement already satisfied: nvidia-curand-cu12==10.3.5.147 in /usr/local/lib/python3.11/dist-packages (from torch>=1.7.0->fractalnet==0.1.0) (10.3.5.147)\n",
            "Requirement already satisfied: nvidia-cusolver-cu12==11.6.1.9 in /usr/local/lib/python3.11/dist-packages (from torch>=1.7.0->fractalnet==0.1.0) (11.6.1.9)\n",
            "Requirement already satisfied: nvidia-cusparse-cu12==12.3.1.170 in /usr/local/lib/python3.11/dist-packages (from torch>=1.7.0->fractalnet==0.1.0) (12.3.1.170)\n",
            "Requirement already satisfied: nvidia-cusparselt-cu12==0.6.2 in /usr/local/lib/python3.11/dist-packages (from torch>=1.7.0->fractalnet==0.1.0) (0.6.2)\n",
            "Requirement already satisfied: nvidia-nccl-cu12==2.21.5 in /usr/local/lib/python3.11/dist-packages (from torch>=1.7.0->fractalnet==0.1.0) (2.21.5)\n",
            "Requirement already satisfied: nvidia-nvtx-cu12==12.4.127 in /usr/local/lib/python3.11/dist-packages (from torch>=1.7.0->fractalnet==0.1.0) (12.4.127)\n",
            "Requirement already satisfied: nvidia-nvjitlink-cu12==12.4.127 in /usr/local/lib/python3.11/dist-packages (from torch>=1.7.0->fractalnet==0.1.0) (12.4.127)\n",
            "Requirement already satisfied: triton==3.2.0 in /usr/local/lib/python3.11/dist-packages (from torch>=1.7.0->fractalnet==0.1.0) (3.2.0)\n",
            "Requirement already satisfied: sympy==1.13.1 in /usr/local/lib/python3.11/dist-packages (from torch>=1.7.0->fractalnet==0.1.0) (1.13.1)\n",
            "Requirement already satisfied: mpmath<1.4,>=1.1.0 in /usr/local/lib/python3.11/dist-packages (from sympy==1.13.1->torch>=1.7.0->fractalnet==0.1.0) (1.3.0)\n",
            "Requirement already satisfied: MarkupSafe>=2.0 in /usr/local/lib/python3.11/dist-packages (from jinja2->torch>=1.7.0->fractalnet==0.1.0) (3.0.2)\n",
            "Installing collected packages: fractalnet\n",
            "  Attempting uninstall: fractalnet\n",
            "    Found existing installation: fractalnet 0.1.0\n",
            "    Uninstalling fractalnet-0.1.0:\n",
            "      Successfully uninstalled fractalnet-0.1.0\n",
            "  Running setup.py develop for fractalnet\n",
            "Successfully installed fractalnet-0.1.0\n"
          ]
        },
        {
          "output_type": "stream",
          "name": "stderr",
          "text": [
            "DEPRECATION: Loading egg at /usr/local/lib/python3.11/dist-packages/fractalnet-0.1.0-py3.11.egg is deprecated. pip 24.3 will enforce this behaviour change. A possible replacement is to use pip for package installation. Discussion can be found at https://github.com/pypa/pip/issues/12330\n"
          ]
        }
      ]
    },
    {
      "cell_type": "code",
      "source": [
        "import torch\n",
        "from fractalnet.blocks import FractalBlock\n",
        "\n",
        "# Пример за тестване на FractalBlock\n",
        "block = FractalBlock(in_ch=3, out_ch=16, depth=3)\n",
        "x     = torch.randn(1, 3, 32, 32)\n",
        "out   = block(x)\n",
        "print(\"Фрактален блок:\", block)\n",
        "print(\"Форма на изхода:\", out.shape)\n"
      ],
      "metadata": {
        "colab": {
          "base_uri": "https://localhost:8080/"
        },
        "id": "FEVYxtTQxwSM",
        "outputId": "38629477-dd10-4770-ea41-6706f8023479"
      },
      "execution_count": null,
      "outputs": [
        {
          "output_type": "stream",
          "name": "stdout",
          "text": [
            "Фрактален блок: FractalBlock(\n",
            "  (left): FractalBlock(\n",
            "    (left): FractalBlock(\n",
            "      (block): Sequential(\n",
            "        (0): Conv2d(3, 16, kernel_size=(3, 3), stride=(1, 1), padding=(1, 1), bias=False)\n",
            "        (1): BatchNorm2d(16, eps=1e-05, momentum=0.1, affine=True, track_running_stats=True)\n",
            "        (2): ReLU(inplace=True)\n",
            "      )\n",
            "    )\n",
            "    (right): FractalBlock(\n",
            "      (block): Sequential(\n",
            "        (0): Conv2d(3, 16, kernel_size=(3, 3), stride=(1, 1), padding=(1, 1), bias=False)\n",
            "        (1): BatchNorm2d(16, eps=1e-05, momentum=0.1, affine=True, track_running_stats=True)\n",
            "        (2): ReLU(inplace=True)\n",
            "      )\n",
            "    )\n",
            "  )\n",
            "  (right): FractalBlock(\n",
            "    (left): FractalBlock(\n",
            "      (block): Sequential(\n",
            "        (0): Conv2d(3, 16, kernel_size=(3, 3), stride=(1, 1), padding=(1, 1), bias=False)\n",
            "        (1): BatchNorm2d(16, eps=1e-05, momentum=0.1, affine=True, track_running_stats=True)\n",
            "        (2): ReLU(inplace=True)\n",
            "      )\n",
            "    )\n",
            "    (right): FractalBlock(\n",
            "      (block): Sequential(\n",
            "        (0): Conv2d(3, 16, kernel_size=(3, 3), stride=(1, 1), padding=(1, 1), bias=False)\n",
            "        (1): BatchNorm2d(16, eps=1e-05, momentum=0.1, affine=True, track_running_stats=True)\n",
            "        (2): ReLU(inplace=True)\n",
            "      )\n",
            "    )\n",
            "  )\n",
            ")\n",
            "Форма на изхода: torch.Size([1, 16, 32, 32])\n"
          ]
        }
      ]
    },
    {
      "cell_type": "code",
      "source": [
        "%%bash\n",
        "cat > fractalnet/model.py << 'EOF'\n",
        "import torch.nn as nn\n",
        "from fractalnet.blocks import FractalBlock\n",
        "\n",
        "class FractalNet(nn.Module):\n",
        "    \"\"\"\n",
        "    Прост примерен FractalNet за CIFAR-10:\n",
        "     - Stem: Conv(3→64)\n",
        "     - FractalBlock: 64→128\n",
        "     - Global avg-pool + FC(128→num_classes)\n",
        "    \"\"\"\n",
        "    def __init__(self, num_classes=10, depth=3, drop_rate=0.15):\n",
        "        super().__init__()\n",
        "        # Stem\n",
        "        self.stem = nn.Sequential(\n",
        "            nn.Conv2d(3, 64, kernel_size=3, padding=1, bias=False),\n",
        "            nn.BatchNorm2d(64),\n",
        "            nn.ReLU(inplace=True)\n",
        "        )\n",
        "        # Един единичен фрактален блок\n",
        "        self.fractal = FractalBlock(64, 128, depth, drop_rate)\n",
        "        # Класификатор\n",
        "        self.global_pool = nn.AdaptiveAvgPool2d(1)\n",
        "        self.fc = nn.Linear(128, num_classes)\n",
        "\n",
        "    def forward(self, x):\n",
        "        x = self.stem(x)\n",
        "        x = self.fractal(x)\n",
        "        x = self.global_pool(x).view(x.size(0), -1)\n",
        "        return self.fc(x)\n",
        "EOF\n"
      ],
      "metadata": {
        "id": "hd5HZ_l5yOI5"
      },
      "execution_count": null,
      "outputs": []
    },
    {
      "cell_type": "code",
      "source": [
        "!touch fractalnet/__init__.py"
      ],
      "metadata": {
        "id": "GMoKX3T8yW2O"
      },
      "execution_count": null,
      "outputs": []
    },
    {
      "cell_type": "code",
      "source": [
        "pip install -e .\n"
      ],
      "metadata": {
        "colab": {
          "base_uri": "https://localhost:8080/",
          "height": 690
        },
        "id": "5cgBZCFlpMlE",
        "outputId": "80f380e1-dfeb-4ac8-c4c2-f3f3b99cc02a"
      },
      "execution_count": null,
      "outputs": [
        {
          "output_type": "stream",
          "name": "stdout",
          "text": [
            "Obtaining file:///content/FractalNet\n",
            "  Preparing metadata (setup.py) ... \u001b[?25l\u001b[?25hdone\n",
            "Requirement already satisfied: torch>=1.7.0 in /usr/local/lib/python3.11/dist-packages (from fractalnet==0.1.0) (2.6.0+cu124)\n",
            "Requirement already satisfied: filelock in /usr/local/lib/python3.11/dist-packages (from torch>=1.7.0->fractalnet==0.1.0) (3.18.0)\n",
            "Requirement already satisfied: typing-extensions>=4.10.0 in /usr/local/lib/python3.11/dist-packages (from torch>=1.7.0->fractalnet==0.1.0) (4.14.1)\n",
            "Requirement already satisfied: networkx in /usr/local/lib/python3.11/dist-packages (from torch>=1.7.0->fractalnet==0.1.0) (3.5)\n",
            "Requirement already satisfied: jinja2 in /usr/local/lib/python3.11/dist-packages (from torch>=1.7.0->fractalnet==0.1.0) (3.1.6)\n",
            "Requirement already satisfied: fsspec in /usr/local/lib/python3.11/dist-packages (from torch>=1.7.0->fractalnet==0.1.0) (2025.3.2)\n",
            "Requirement already satisfied: nvidia-cuda-nvrtc-cu12==12.4.127 in /usr/local/lib/python3.11/dist-packages (from torch>=1.7.0->fractalnet==0.1.0) (12.4.127)\n",
            "Requirement already satisfied: nvidia-cuda-runtime-cu12==12.4.127 in /usr/local/lib/python3.11/dist-packages (from torch>=1.7.0->fractalnet==0.1.0) (12.4.127)\n",
            "Requirement already satisfied: nvidia-cuda-cupti-cu12==12.4.127 in /usr/local/lib/python3.11/dist-packages (from torch>=1.7.0->fractalnet==0.1.0) (12.4.127)\n",
            "Requirement already satisfied: nvidia-cudnn-cu12==9.1.0.70 in /usr/local/lib/python3.11/dist-packages (from torch>=1.7.0->fractalnet==0.1.0) (9.1.0.70)\n",
            "Requirement already satisfied: nvidia-cublas-cu12==12.4.5.8 in /usr/local/lib/python3.11/dist-packages (from torch>=1.7.0->fractalnet==0.1.0) (12.4.5.8)\n",
            "Requirement already satisfied: nvidia-cufft-cu12==11.2.1.3 in /usr/local/lib/python3.11/dist-packages (from torch>=1.7.0->fractalnet==0.1.0) (11.2.1.3)\n",
            "Requirement already satisfied: nvidia-curand-cu12==10.3.5.147 in /usr/local/lib/python3.11/dist-packages (from torch>=1.7.0->fractalnet==0.1.0) (10.3.5.147)\n",
            "Requirement already satisfied: nvidia-cusolver-cu12==11.6.1.9 in /usr/local/lib/python3.11/dist-packages (from torch>=1.7.0->fractalnet==0.1.0) (11.6.1.9)\n",
            "Requirement already satisfied: nvidia-cusparse-cu12==12.3.1.170 in /usr/local/lib/python3.11/dist-packages (from torch>=1.7.0->fractalnet==0.1.0) (12.3.1.170)\n",
            "Requirement already satisfied: nvidia-cusparselt-cu12==0.6.2 in /usr/local/lib/python3.11/dist-packages (from torch>=1.7.0->fractalnet==0.1.0) (0.6.2)\n",
            "Requirement already satisfied: nvidia-nccl-cu12==2.21.5 in /usr/local/lib/python3.11/dist-packages (from torch>=1.7.0->fractalnet==0.1.0) (2.21.5)\n",
            "Requirement already satisfied: nvidia-nvtx-cu12==12.4.127 in /usr/local/lib/python3.11/dist-packages (from torch>=1.7.0->fractalnet==0.1.0) (12.4.127)\n",
            "Requirement already satisfied: nvidia-nvjitlink-cu12==12.4.127 in /usr/local/lib/python3.11/dist-packages (from torch>=1.7.0->fractalnet==0.1.0) (12.4.127)\n",
            "Requirement already satisfied: triton==3.2.0 in /usr/local/lib/python3.11/dist-packages (from torch>=1.7.0->fractalnet==0.1.0) (3.2.0)\n",
            "Requirement already satisfied: sympy==1.13.1 in /usr/local/lib/python3.11/dist-packages (from torch>=1.7.0->fractalnet==0.1.0) (1.13.1)\n",
            "Requirement already satisfied: mpmath<1.4,>=1.1.0 in /usr/local/lib/python3.11/dist-packages (from sympy==1.13.1->torch>=1.7.0->fractalnet==0.1.0) (1.3.0)\n",
            "Requirement already satisfied: MarkupSafe>=2.0 in /usr/local/lib/python3.11/dist-packages (from jinja2->torch>=1.7.0->fractalnet==0.1.0) (3.0.2)\n",
            "Installing collected packages: fractalnet\n",
            "  Attempting uninstall: fractalnet\n",
            "    Found existing installation: fractalnet 0.1.0\n",
            "    Uninstalling fractalnet-0.1.0:\n",
            "      Successfully uninstalled fractalnet-0.1.0\n",
            "  Running setup.py develop for fractalnet\n",
            "Successfully installed fractalnet-0.1.0\n"
          ]
        },
        {
          "output_type": "display_data",
          "data": {
            "application/vnd.colab-display-data+json": {
              "pip_warning": {
                "packages": [
                  "fractalnet"
                ]
              },
              "id": "41492febaebb4f4bbadf21e1a0d2f2f6"
            }
          },
          "metadata": {}
        }
      ]
    },
    {
      "cell_type": "code",
      "source": [
        "import torch, torch.nn as nn, torch.optim as optim\n",
        "from torchvision import datasets, transforms\n",
        "from torch.utils.data import DataLoader\n",
        "from fractalnet.model import FractalNet\n",
        "\n",
        "# 1. Настройка на данните\n",
        "transform = transforms.Compose([\n",
        "    transforms.RandomCrop(32, padding=4),\n",
        "    transforms.RandomHorizontalFlip(),\n",
        "    transforms.ToTensor(),\n",
        "    transforms.Normalize((0.5,)*3, (0.5,)*3)\n",
        "])\n",
        "\n",
        "train_ds = datasets.CIFAR10(root='.', train=True,  download=True, transform=transform)\n",
        "test_ds  = datasets.CIFAR10(root='.', train=False, download=True, transform=transform)\n",
        "\n",
        "train_loader = DataLoader(train_ds, batch_size=128, shuffle=True,  num_workers=2)\n",
        "test_loader  = DataLoader(test_ds,  batch_size=256, shuffle=False, num_workers=2)\n",
        "\n",
        "# 2. Модел, loss, optimizer\n",
        "device = torch.device('cuda' if torch.cuda.is_available() else 'cpu')\n",
        "model  = FractalNet(num_classes=10, depth=3, drop_rate=0.15).to(device)\n",
        "criterion = nn.CrossEntropyLoss()\n",
        "optimizer = optim.SGD(model.parameters(), lr=0.1, momentum=0.9, weight_decay=5e-4)\n",
        "\n",
        "# 3. Един епох тренировка\n",
        "model.train()\n",
        "running_loss = 0.0\n",
        "for i, (images, labels) in enumerate(train_loader):\n",
        "    images, labels = images.to(device), labels.to(device)\n",
        "    optimizer.zero_grad()\n",
        "    outputs = model(images)\n",
        "    loss = criterion(outputs, labels)\n",
        "    loss.backward()\n",
        "    optimizer.step()\n",
        "\n",
        "    running_loss += loss.item()\n",
        "    if (i+1) % 100 == 0:\n",
        "        print(f\"[Batch {i+1}/{len(train_loader)}] Loss: {running_loss/100:.4f}\")\n",
        "        running_loss = 0.0\n",
        "\n",
        "# 4. Бърз тест за accuracy\n",
        "model.eval()\n",
        "correct = total = 0\n",
        "with torch.no_grad():\n",
        "    for images, labels in test_loader:\n",
        "        images, labels = images.to(device), labels.to(device)\n",
        "        preds = model(images).argmax(dim=1)\n",
        "        correct += (preds == labels).sum().item()\n",
        "        total   += labels.size(0)\n",
        "\n",
        "print(f\"Test Accuracy: {100*correct/total:.2f}%\")\n"
      ],
      "metadata": {
        "colab": {
          "base_uri": "https://localhost:8080/"
        },
        "id": "8JuoMypjzraE",
        "outputId": "90d7de35-216b-4761-9878-6867ebf48670"
      },
      "execution_count": null,
      "outputs": [
        {
          "output_type": "stream",
          "name": "stdout",
          "text": [
            "[Batch 100/391] Loss: 2.0097\n",
            "[Batch 200/391] Loss: 1.8289\n"
          ]
        }
      ]
    },
    {
      "cell_type": "code",
      "source": [
        "import torch\n",
        "from fractalnet.blocks import FractalBlock\n",
        "\n",
        "# Създай един фрактален блок\n",
        "block = FractalBlock(in_ch=3, out_ch=16, depth=3)\n",
        "print(block)\n",
        "\n",
        "# Пробно подаване на един “dummy” тензор\n",
        "x = torch.randn(1, 3, 32, 32)\n",
        "out = block(x)\n",
        "print(\"Output shape:\", out.shape)\n"
      ],
      "metadata": {
        "colab": {
          "base_uri": "https://localhost:8080/"
        },
        "id": "YxUV1xumpfgD",
        "outputId": "3325fddf-2a77-4eae-86b5-fab45953fa08"
      },
      "execution_count": null,
      "outputs": [
        {
          "output_type": "stream",
          "name": "stdout",
          "text": [
            "FractalBlock(\n",
            "  (left): FractalBlock(\n",
            "    (left): FractalBlock(\n",
            "      (block): Sequential(\n",
            "        (0): Conv2d(3, 16, kernel_size=(3, 3), stride=(1, 1), padding=(1, 1), bias=False)\n",
            "        (1): BatchNorm2d(16, eps=1e-05, momentum=0.1, affine=True, track_running_stats=True)\n",
            "        (2): ReLU(inplace=True)\n",
            "      )\n",
            "    )\n",
            "    (right): FractalBlock(\n",
            "      (block): Sequential(\n",
            "        (0): Conv2d(3, 16, kernel_size=(3, 3), stride=(1, 1), padding=(1, 1), bias=False)\n",
            "        (1): BatchNorm2d(16, eps=1e-05, momentum=0.1, affine=True, track_running_stats=True)\n",
            "        (2): ReLU(inplace=True)\n",
            "      )\n",
            "    )\n",
            "  )\n",
            "  (right): FractalBlock(\n",
            "    (left): FractalBlock(\n",
            "      (block): Sequential(\n",
            "        (0): Conv2d(3, 16, kernel_size=(3, 3), stride=(1, 1), padding=(1, 1), bias=False)\n",
            "        (1): BatchNorm2d(16, eps=1e-05, momentum=0.1, affine=True, track_running_stats=True)\n",
            "        (2): ReLU(inplace=True)\n",
            "      )\n",
            "    )\n",
            "    (right): FractalBlock(\n",
            "      (block): Sequential(\n",
            "        (0): Conv2d(3, 16, kernel_size=(3, 3), stride=(1, 1), padding=(1, 1), bias=False)\n",
            "        (1): BatchNorm2d(16, eps=1e-05, momentum=0.1, affine=True, track_running_stats=True)\n",
            "        (2): ReLU(inplace=True)\n",
            "      )\n",
            "    )\n",
            "  )\n",
            ")\n",
            "Output shape: torch.Size([1, 16, 32, 32])\n"
          ]
        }
      ]
    }
  ]
}